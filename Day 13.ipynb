{
 "cells": [
  {
   "cell_type": "markdown",
   "metadata": {},
   "source": [
    "# Day 13\n",
    "[Shuttle Search](https://adventofcode.com/2020/day/13)"
   ]
  },
  {
   "cell_type": "markdown",
   "metadata": {},
   "source": [
    "## Part 1\n",
    "\n",
    "Your ferry can make it safely to a nearby port, but it won't get much further. When you call to book another ship, you discover that no ships embark from that port to your vacation island. You'll need to get from the port to the nearest airport.\n",
    "\n",
    "Fortunately, a shuttle bus service is available to bring you from the sea port to the airport! Each bus has an ID number that also indicates how often the bus leaves for the airport.\n",
    "\n",
    "Bus schedules are defined based on a timestamp that measures the number of minutes since some fixed reference point in the past. At timestamp 0, every bus simultaneously departed from the sea port. After that, each bus travels to the airport, then various other locations, and finally returns to the sea port to repeat its journey forever.\n",
    "\n",
    "The time this loop takes a particular bus is also its ID number: the bus with ID 5 departs from the sea port at timestamps 0, 5, 10, 15, and so on. The bus with ID 11 departs at 0, 11, 22, 33, and so on. If you are there when the bus departs, you can ride that bus to the airport!\n",
    "\n",
    "Your notes (your puzzle input) consist of two lines. The first line is your estimate of the earliest timestamp you could depart on a bus. The second line lists the bus IDs that are in service according to the shuttle company; entries that show x must be out of service, so you decide to ignore them.\n",
    "\n",
    "To save time once you arrive, your goal is to figure out the earliest bus you can take to the airport. (There will be exactly one such bus.)\n",
    "\n",
    "For example, suppose you have the following notes:\n",
    "\n",
    "939\n",
    "7,13,x,x,59,x,31,19\n",
    "\n",
    "Here, the earliest timestamp you could depart is 939, and the bus IDs in service are 7, 13, 59, 31, and 19. Near timestamp 939, these bus IDs depart at the times marked D:\n",
    "\n",
    "time   bus 7   bus 13  bus 59  bus 31  bus 19\n",
    "929      .       .       .       .       .\n",
    "930      .       .       .       D       .\n",
    "931      D       .       .       .       D\n",
    "932      .       .       .       .       .\n",
    "933      .       .       .       .       .\n",
    "934      .       .       .       .       .\n",
    "935      .       .       .       .       .\n",
    "936      .       D       .       .       .\n",
    "937      .       .       .       .       .\n",
    "938      D       .       .       .       .\n",
    "939      .       .       .       .       .\n",
    "940      .       .       .       .       .\n",
    "941      .       .       .       .       .\n",
    "942      .       .       .       .       .\n",
    "943      .       .       .       .       .\n",
    "944      .       .       D       .       .\n",
    "945      D       .       .       .       .\n",
    "946      .       .       .       .       .\n",
    "947      .       .       .       .       .\n",
    "948      .       .       .       .       .\n",
    "949      .       D       .       .       .\n",
    "\n",
    "The earliest bus you could take is bus ID 59. It doesn't depart until timestamp 944, so you would need to wait 944 - 939 = 5 minutes before it departs. Multiplying the bus ID by the number of minutes you'd need to wait gives 295.\n",
    "\n",
    "What is the ID of the earliest bus you can take to the airport multiplied by the number of minutes you'll need to wait for that bus?"
   ]
  },
  {
   "cell_type": "code",
   "execution_count": 2,
   "metadata": {},
   "outputs": [],
   "source": [
    "input_data = open('input/day 13.txt').read().splitlines()"
   ]
  },
  {
   "cell_type": "code",
   "execution_count": 3,
   "metadata": {},
   "outputs": [
    {
     "data": {
      "text/plain": [
       "['1000391',\n",
       " '19,x,x,x,x,x,x,x,x,x,x,x,x,37,x,x,x,x,x,383,x,x,x,x,x,x,x,23,x,x,x,x,13,x,x,x,x,x,x,x,x,x,x,x,x,x,x,x,29,x,457,x,x,x,x,x,x,x,x,x,41,x,x,x,x,x,x,17']"
      ]
     },
     "execution_count": 3,
     "metadata": {},
     "output_type": "execute_result"
    }
   ],
   "source": [
    "input_data"
   ]
  },
  {
   "cell_type": "code",
   "execution_count": 4,
   "metadata": {},
   "outputs": [],
   "source": [
    "time = int(input_data[0])\n",
    "schedule = [int(t) for t in input_data[1].split(',') if t.isnumeric()]"
   ]
  },
  {
   "cell_type": "code",
   "execution_count": 5,
   "metadata": {},
   "outputs": [
    {
     "data": {
      "text/plain": [
       "[19, 37, 383, 23, 13, 29, 457, 41, 17]"
      ]
     },
     "execution_count": 5,
     "metadata": {},
     "output_type": "execute_result"
    }
   ],
   "source": [
    "schedule"
   ]
  },
  {
   "cell_type": "code",
   "execution_count": 6,
   "metadata": {},
   "outputs": [
    {
     "name": "stdout",
     "output_type": "stream",
     "text": [
      "The first shuttle is 383 to arrive after 5 minutes\n",
      "The puzzle solution is 1915.\n"
     ]
    }
   ],
   "source": [
    "# find the number of times the busses have to run to arrive past the \n",
    "# desired time\n",
    "runcount = [1 + time // sched for sched in schedule]\n",
    "waiting = [s*r - time for s, r in zip(schedule, runcount)]\n",
    "stats = list(zip(schedule, waiting, runcount))\n",
    "shuttle = sorted(stats, key=lambda s: s[1])[0]\n",
    "print(f'The first shuttle is {shuttle[0]} to arrive after {shuttle[1]} minutes')\n",
    "print(f'The puzzle solution is {shuttle[0] * shuttle[1]}.')"
   ]
  },
  {
   "cell_type": "markdown",
   "metadata": {},
   "source": [
    "## Part 2\n",
    "\n",
    "The shuttle company is running a contest: one gold coin for anyone that can find the earliest timestamp such that the first bus ID departs at that time and each subsequent listed bus ID departs at that subsequent minute. (The first line in your input is no longer relevant.)\n",
    "\n",
    "For example, suppose you have the same list of bus IDs as above:\n",
    "\n",
    "7,13,x,x,59,x,31,19\n",
    "\n",
    "An x in the schedule means there are no constraints on what bus IDs must depart at that time.\n",
    "\n",
    "This means you are looking for the earliest timestamp (called t) such that:\n",
    "\n",
    "    Bus ID 7 departs at timestamp t.\n",
    "    Bus ID 13 departs one minute after timestamp t.\n",
    "    There are no requirements or restrictions on departures at two or three minutes after timestamp t.\n",
    "    Bus ID 59 departs four minutes after timestamp t.\n",
    "    There are no requirements or restrictions on departures at five minutes after timestamp t.\n",
    "    Bus ID 31 departs six minutes after timestamp t.\n",
    "    Bus ID 19 departs seven minutes after timestamp t.\n",
    "\n",
    "The only bus departures that matter are the listed bus IDs at their specific offsets from t. Those bus IDs can depart at other times, and other bus IDs can depart at those times. For example, in the list above, because bus ID 19 must depart seven minutes after the timestamp at which bus ID 7 departs, bus ID 7 will always also be departing with bus ID 19 at seven minutes after timestamp t.\n",
    "\n",
    "In this example, the earliest timestamp at which this occurs is 1068781:\n",
    "\n",
    "time     bus 7   bus 13  bus 59  bus 31  bus 19\n",
    "1068773    .       .       .       .       .\n",
    "1068774    D       .       .       .       .\n",
    "1068775    .       .       .       .       .\n",
    "1068776    .       .       .       .       .\n",
    "1068777    .       .       .       .       .\n",
    "1068778    .       .       .       .       .\n",
    "1068779    .       .       .       .       .\n",
    "1068780    .       .       .       .       .\n",
    "1068781    D       .       .       .       .\n",
    "1068782    .       D       .       .       .\n",
    "1068783    .       .       .       .       .\n",
    "1068784    .       .       .       .       .\n",
    "1068785    .       .       D       .       .\n",
    "1068786    .       .       .       .       .\n",
    "1068787    .       .       .       D       .\n",
    "1068788    D       .       .       .       D\n",
    "1068789    .       .       .       .       .\n",
    "1068790    .       .       .       .       .\n",
    "1068791    .       .       .       .       .\n",
    "1068792    .       .       .       .       .\n",
    "1068793    .       .       .       .       .\n",
    "1068794    .       .       .       .       .\n",
    "1068795    D       D       .       .       .\n",
    "1068796    .       .       .       .       .\n",
    "1068797    .       .       .       .       .\n",
    "\n",
    "In the above example, bus ID 7 departs at timestamp 1068788 (seven minutes after t). This is fine; the only requirement on that minute is that bus ID 19 departs then, and it does.\n",
    "\n",
    "Here are some other examples:\n",
    "\n",
    "    The earliest timestamp that matches the list 17,x,13,19 is 3417.\n",
    "    67,7,59,61 first occurs at timestamp 754018.\n",
    "    67,x,7,59,61 first occurs at timestamp 779210.\n",
    "    67,7,x,59,61 first occurs at timestamp 1261476.\n",
    "    1789,37,47,1889 first occurs at timestamp 1202161486.\n",
    "\n",
    "However, with so many bus IDs in your list, surely the actual earliest timestamp will be larger than 100000000000000!\n",
    "\n",
    "What is the earliest timestamp such that all of the listed bus IDs depart at offsets matching their positions in the list?"
   ]
  },
  {
   "cell_type": "code",
   "execution_count": 7,
   "metadata": {},
   "outputs": [],
   "source": [
    "arrivals = {i: int(id) for i, id in enumerate(input_data[1].split(',')) if id != 'x'}\n",
    "timestamps = list(int(t) for t in sorted(arrivals.values()))                                      "
   ]
  },
  {
   "cell_type": "code",
   "execution_count": 8,
   "metadata": {},
   "outputs": [],
   "source": [
    "def validate(t, arrivals):\n",
    "    for pos in arrivals:\n",
    "        if (t + pos) % arrivals[pos] != 0:\n",
    "            return False\n",
    "    return True"
   ]
  },
  {
   "cell_type": "code",
   "execution_count": 9,
   "metadata": {},
   "outputs": [],
   "source": [
    "assert validate(3417, {0:17, 2:13, 3:19})\n",
    "assert validate(754018, {0:67, 1:7, 2:59, 3:61})\n",
    "assert validate(779210, {0:67, 2:7, 3:59, 4:61})\n",
    "assert validate(1261476, {0:67, 1:7, 3:59, 4:61})\n",
    "assert validate(1202161486, {0:1789, 1:37, 2:47, 3:1889})\n",
    "                "
   ]
  },
  {
   "cell_type": "code",
   "execution_count": 63,
   "metadata": {},
   "outputs": [],
   "source": [
    "from functools import reduce\n",
    "\n",
    "def chinese_remainder(n, a):\n",
    "    sum = 0\n",
    "    prod = reduce(lambda a, b: a*b, n)\n",
    "    for n_i, a_i in zip(n, a):\n",
    "        p = prod // n_i\n",
    "        sum += a_i * mul_inv(p, n_i) * p\n",
    "    return sum % prod\n",
    " \n",
    " \n",
    "def mul_inv(a, b):\n",
    "    b0 = b\n",
    "    x0, x1 = 0, 1\n",
    "    if b == 1: return 1\n",
    "    while a > 1:\n",
    "        q = a // b\n",
    "        a, b = b, a%b\n",
    "        x0, x1 = x1 - q * x0, x0\n",
    "    if x1 < 0: x1 += b0\n",
    "    return x1"
   ]
  },
  {
   "cell_type": "code",
   "execution_count": 64,
   "metadata": {},
   "outputs": [],
   "source": [
    "def compute_chinese(arrivals):\n",
    "    pairs = list(arrivals.items())\n",
    "    n = [p[1] for p in pairs]\n",
    "    a = [p-a for a, p in pairs]\n",
    "    return chinese_remainder(n, a)\n",
    "\n",
    "def validate_chinese(s, arrivals):\n",
    "    return s == compute_chinese(arrivals)\n",
    "\n",
    "assert validate_chinese(3417, {0:17, 2:13, 3:19})\n",
    "assert validate_chinese(754018, {0:67, 1:7, 2:59, 3:61})\n",
    "assert validate_chinese(779210, {0:67, 2:7, 3:59, 4:61})\n",
    "assert validate_chinese(1261476, {0:67, 1:7, 3:59, 4:61})\n",
    "assert validate_chinese(1202161486, {0:1789, 1:37, 2:47, 3:1889})"
   ]
  },
  {
   "cell_type": "code",
   "execution_count": 65,
   "metadata": {},
   "outputs": [
    {
     "data": {
      "text/plain": [
       "294354277694107"
      ]
     },
     "execution_count": 65,
     "metadata": {},
     "output_type": "execute_result"
    }
   ],
   "source": [
    "compute_chinese(arrivals)"
   ]
  },
  {
   "cell_type": "code",
   "execution_count": null,
   "metadata": {},
   "outputs": [],
   "source": []
  }
 ],
 "metadata": {
  "kernelspec": {
   "display_name": "Python 3",
   "language": "python",
   "name": "python3"
  },
  "language_info": {
   "codemirror_mode": {
    "name": "ipython",
    "version": 3
   },
   "file_extension": ".py",
   "mimetype": "text/x-python",
   "name": "python",
   "nbconvert_exporter": "python",
   "pygments_lexer": "ipython3",
   "version": "3.9.0"
  }
 },
 "nbformat": 4,
 "nbformat_minor": 4
}
