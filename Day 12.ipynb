{
 "cells": [
  {
   "cell_type": "markdown",
   "metadata": {},
   "source": [
    "# Day 12\n",
    "\n",
    "[Rain Risk](https://adventofcode.com/2020/day/12)"
   ]
  },
  {
   "cell_type": "markdown",
   "metadata": {},
   "source": [
    "## Part 1\n",
    "\n",
    "Your ferry made decent progress toward the island, but the storm came in faster than anyone expected. The ferry needs to take evasive actions!\n",
    "\n",
    "Unfortunately, the ship's navigation computer seems to be malfunctioning; rather than giving a route directly to safety, it produced extremely circuitous instructions. When the captain uses the PA system to ask if anyone can help, you quickly volunteer.\n",
    "\n",
    "The navigation instructions (your puzzle input) consists of a sequence of single-character actions paired with integer input values. After staring at them for a few minutes, you work out what they probably mean:\n",
    "\n",
    "    Action N means to move north by the given value.\n",
    "    Action S means to move south by the given value.\n",
    "    Action E means to move east by the given value.\n",
    "    Action W means to move west by the given value.\n",
    "    Action L means to turn left the given number of degrees.\n",
    "    Action R means to turn right the given number of degrees.\n",
    "    Action F means to move forward by the given value in the direction the ship is currently facing.\n",
    "\n",
    "The ship starts by facing east. Only the L and R actions change the direction the ship is facing. (That is, if the ship is facing east and the next instruction is N10, the ship would move north 10 units, but would still move east if the following action were F.)\n",
    "\n",
    "For example:\n",
    "\n",
    "F10\n",
    "N3\n",
    "F7\n",
    "R90\n",
    "F11\n",
    "\n",
    "These instructions would be handled as follows:\n",
    "\n",
    "    F10 would move the ship 10 units east (because the ship starts by facing east) to east 10, north 0.\n",
    "    N3 would move the ship 3 units north to east 10, north 3.\n",
    "    F7 would move the ship another 7 units east (because the ship is still facing east) to east 17, north 3.\n",
    "    R90 would cause the ship to turn right by 90 degrees and face south; it remains at east 17, north 3.\n",
    "    F11 would move the ship 11 units south to east 17, south 8.\n",
    "\n",
    "At the end of these instructions, the ship's Manhattan distance (sum of the absolute values of its east/west position and its north/south position) from its starting position is 17 + 8 = 25.\n",
    "\n",
    "Figure out where the navigation instructions lead. What is the Manhattan distance between that location and the ship's starting position?"
   ]
  },
  {
   "cell_type": "code",
   "execution_count": 1,
   "metadata": {},
   "outputs": [],
   "source": [
    "input_data = open('input/day 12.txt').read().splitlines()"
   ]
  },
  {
   "cell_type": "code",
   "execution_count": 2,
   "metadata": {},
   "outputs": [
    {
     "name": "stdout",
     "output_type": "stream",
     "text": [
      "589, 632 = 1221 manhattan distance\n"
     ]
    }
   ],
   "source": [
    "L90 = {'E': 'N', 'N': 'W', 'W': 'S', 'S': 'E'}\n",
    "R90 = {'E': 'S', 'S': 'W', 'W': 'N', 'N': 'E'}\n",
    "T180 = {'E': 'W', 'W': 'E', 'S': 'N', 'N': 'S'}\n",
    "turns = {'L90': L90, 'R90': R90, 'L180': T180, 'R180': T180, 'L270': R90, 'R270': L90}\n",
    "\n",
    "def move(x, y, direction, units):\n",
    "    if direction == 'N':\n",
    "        return x, y + units\n",
    "    elif direction == 'S':\n",
    "        return x, y - units\n",
    "    elif direction == 'E':\n",
    "        return x - units, y\n",
    "    elif direction == 'W':\n",
    "        return x + units, y\n",
    "    else:\n",
    "        raise ValueError('Invalid Direction')\n",
    "\n",
    "x, y = 0, 0\n",
    "direction = 'E'\n",
    "for instruction in input_data:\n",
    "    if instruction in turns:\n",
    "        direction = turns[instruction][direction]\n",
    "    else:\n",
    "        command = instruction[0]\n",
    "        units = int(instruction[1:])\n",
    "        if command == 'F':\n",
    "            # forward; use existing direction\n",
    "            command = direction\n",
    "        try:\n",
    "            x, y = move(x, y, command, units)\n",
    "        except ValueError as e:\n",
    "            print('Invalid instruction encountered:', instruction)\n",
    "print(f'{x}, {y} = {x + y} manhattan distance')"
   ]
  },
  {
   "cell_type": "markdown",
   "metadata": {},
   "source": [
    "## Part 2\n",
    "\n",
    "Before you can give the destination to the captain, you realize that the actual action meanings were printed on the back of the instructions the whole time.\n",
    "\n",
    "Almost all of the actions indicate how to move a waypoint which is relative to the ship's position:\n",
    "\n",
    "    Action N means to move the waypoint north by the given value.\n",
    "    Action S means to move the waypoint south by the given value.\n",
    "    Action E means to move the waypoint east by the given value.\n",
    "    Action W means to move the waypoint west by the given value.\n",
    "    Action L means to rotate the waypoint around the ship left (counter-clockwise) the given number of degrees.\n",
    "    Action R means to rotate the waypoint around the ship right (clockwise) the given number of degrees.\n",
    "    Action F means to move forward to the waypoint a number of times equal to the given value.\n",
    "\n",
    "The waypoint starts 10 units east and 1 unit north relative to the ship. The waypoint is relative to the ship; that is, if the ship moves, the waypoint moves with it.\n",
    "\n",
    "For example, using the same instructions as above:\n",
    "\n",
    "    F10 moves the ship to the waypoint 10 times (a total of 100 units east and 10 units north), leaving the ship at east 100, north 10. The waypoint stays 10 units east and 1 unit north of the ship.\n",
    "    N3 moves the waypoint 3 units north to 10 units east and 4 units north of the ship. The ship remains at east 100, north 10.\n",
    "    F7 moves the ship to the waypoint 7 times (a total of 70 units east and 28 units north), leaving the ship at east 170, north 38. The waypoint stays 10 units east and 4 units north of the ship.\n",
    "    R90 rotates the waypoint around the ship clockwise 90 degrees, moving it to 4 units east and 10 units south of the ship. The ship remains at east 170, north 38.\n",
    "    F11 moves the ship to the waypoint 11 times (a total of 44 units east and 110 units south), leaving the ship at east 214, south 72. The waypoint stays 4 units east and 10 units south of the ship.\n",
    "\n",
    "After these operations, the ship's Manhattan distance from its starting position is 214 + 72 = 286.\n",
    "\n",
    "Figure out where the navigation instructions actually lead. What is the Manhattan distance between that location and the ship's starting position?"
   ]
  },
  {
   "cell_type": "code",
   "execution_count": 3,
   "metadata": {},
   "outputs": [
    {
     "name": "stdout",
     "output_type": "stream",
     "text": [
      "(32313, 27122) = 59435\n"
     ]
    }
   ],
   "source": [
    "def turn_left(vector):\n",
    "    x, y = vector\n",
    "    return -y, x\n",
    "\n",
    "def turn_right(vector):\n",
    "    x, y = vector\n",
    "    return y, -x\n",
    "\n",
    "def move(position, vector, units):\n",
    "    x, y = position\n",
    "    dx, dy = vector\n",
    "    return x + dx*units, y + dy*units\n",
    "\n",
    "def move_waypoint(position, direction, units):\n",
    "    x, y = position\n",
    "    if direction == 'N':\n",
    "        return x, y + units\n",
    "    elif direction == 'S':\n",
    "        return x, y - units\n",
    "    elif direction == 'W':\n",
    "        return x - units, y\n",
    "    elif direction == 'E':\n",
    "        return x + units, y\n",
    "\n",
    "waypoint = (10, 1)\n",
    "ship = (0, 0)\n",
    "route = []\n",
    "for instruction in input_data:\n",
    "    route.append(ship)\n",
    "    command, units = instruction[0], int(instruction[1:])\n",
    "    if command == 'F':\n",
    "        ship = move(ship, waypoint, units)\n",
    "    elif command == 'L':\n",
    "        for i in range(units // 90):\n",
    "            waypoint = turn_left(waypoint)\n",
    "    elif command == 'R':\n",
    "        for i in range(units // 90):\n",
    "            waypoint = turn_right(waypoint)\n",
    "    elif command in 'NESW':\n",
    "        waypoint = move_waypoint(waypoint, command, units)\n",
    "x, y = ship\n",
    "print(f'({abs(x)}, {abs(y)}) = {abs(x) + abs(y)}')\n",
    "        "
   ]
  },
  {
   "cell_type": "code",
   "execution_count": 5,
   "metadata": {},
   "outputs": [],
   "source": [
    "x, y = zip(*route)"
   ]
  },
  {
   "cell_type": "code",
   "execution_count": 9,
   "metadata": {},
   "outputs": [
    {
     "data": {
      "text/plain": [
       "(-34862.5, 6926.5, -5847.45, 38162.45)"
      ]
     },
     "execution_count": 9,
     "metadata": {},
     "output_type": "execute_result"
    },
    {
     "data": {
      "image/png": "[encoded data removed]",
      "text/plain": [
       "<Figure size 432x288 with 1 Axes>"
      ]
     },
     "metadata": {
      "needs_background": "light"
     },
     "output_type": "display_data"
    }
   ],
   "source": [
    "import matplotlib.pyplot as plt\n",
    "plt.plot(x, y)\n",
    "plt.axis('off')"
   ]
  },
  {
   "cell_type": "code",
   "execution_count": null,
   "metadata": {},
   "outputs": [],
   "source": []
  }
 ],
 "metadata": {
  "kernelspec": {
   "display_name": "Python 3",
   "language": "python",
   "name": "python3"
  },
  "language_info": {
   "codemirror_mode": {
    "name": "ipython",
    "version": 3
   },
   "file_extension": ".py",
   "mimetype": "text/x-python",
   "name": "python",
   "nbconvert_exporter": "python",
   "pygments_lexer": "ipython3",
   "version": "3.9.0"
  }
 },
 "nbformat": 4,
 "nbformat_minor": 4
}
