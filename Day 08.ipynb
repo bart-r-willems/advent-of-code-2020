{
 "cells": [
  {
   "cell_type": "markdown",
   "metadata": {},
   "source": [
    "# Day 08\n",
    "\n",
    "[Handheld Halting](https://adventofcode.com/2020/day/8)"
   ]
  },
  {
   "cell_type": "markdown",
   "metadata": {},
   "source": [
    "\n",
    "## Part 1\n",
    "Your flight to the major airline hub reaches cruising altitude without incident. While you consider checking the in-flight menu for one of those drinks that come with a little umbrella, you are interrupted by the kid sitting next to you.\n",
    "\n",
    "Their handheld game console won't turn on! They ask if you can take a look.\n",
    "\n",
    "You narrow the problem down to a strange infinite loop in the boot code (your puzzle input) of the device. You should be able to fix it, but first you need to be able to run the code in isolation.\n",
    "\n",
    "The boot code is represented as a text file with one instruction per line of text. Each instruction consists of an operation (acc, jmp, or nop) and an argument (a signed number like +4 or -20).\n",
    "\n",
    "`acc` increases or decreases a single global value called the accumulator by the value given in the argument. For example, acc +7 would increase the accumulator by 7. The accumulator starts at 0. After an acc instruction, the instruction immediately below it is executed next.\n",
    "`jmp` jumps to a new instruction relative to itself. The next instruction to execute is found using the argument as an offset from the jmp instruction; for example, jmp +2 would skip the next instruction, jmp +1 would continue to the instruction immediately below it, and <br>`jmp` -20 would cause the instruction 20 lines above to be executed next.<br>\n",
    "`nop` stands for No OPeration - it does nothing. The instruction immediately below it is executed next.\n",
    "\n",
    "For example, consider the following program:\n",
    "\n",
    "`\n",
    "nop +0\n",
    "acc +1\n",
    "jmp +4\n",
    "acc +3\n",
    "jmp -3\n",
    "acc -99\n",
    "acc +1\n",
    "jmp -4\n",
    "acc +6\n",
    "`\n",
    "\n",
    "These instructions are visited in this order:\n",
    "\n",
    "`\n",
    "nop +0  | 1\n",
    "acc +1  | 2, 8(!)\n",
    "jmp +4  | 3\n",
    "acc +3  | 6\n",
    "jmp -3  | 7\n",
    "acc -99 |\n",
    "acc +1  | 4\n",
    "jmp -4  | 5\n",
    "acc +6  |\n",
    "`\n",
    "\n",
    "First, the nop +0 does nothing. Then, the accumulator is increased from 0 to 1 (acc +1) and jmp +4 sets the next instruction to the other acc +1 near the bottom. After it increases the accumulator from 1 to 2, jmp -4 executes, setting the next instruction to the only acc +3. It sets the accumulator to 5, and jmp -3 causes the program to continue back at the first acc +1.\n",
    "\n",
    "This is an infinite loop: with this sequence of jumps, the program will run forever. The moment the program tries to run any instruction a second time, you know it will never terminate.\n",
    "\n",
    "Immediately before the program would run an instruction a second time, the value in the accumulator is 5.\n",
    "\n",
    "Run your copy of the boot code. Immediately before any instruction is executed a second time, what value is in the accumulator?"
   ]
  },
  {
   "cell_type": "code",
   "execution_count": 1,
   "metadata": {},
   "outputs": [],
   "source": [
    "class BootCode:\n",
    "    def __init__(self):\n",
    "        self.accumulator = 0\n",
    "        self.memory = {}\n",
    "        self.pc = 0\n",
    "        self.history = []\n",
    "        self.flag = None\n",
    "\n",
    "    def load(self, instructions):\n",
    "        for address, instruction in enumerate(instructions):\n",
    "            operation, argument = instruction.upper().split(' ')\n",
    "            self.memory[address] = (operation, argument)\n",
    "\n",
    "    def step(self):\n",
    "        operation, argument = self.memory[self.pc]\n",
    "        if operation == 'NOP':\n",
    "            self.inc_pc()\n",
    "        elif operation == 'ACC':\n",
    "            self.accumulator += int(argument)\n",
    "            self.inc_pc()\n",
    "        elif operation == 'JMP':\n",
    "            self.set_pc(self.pc + int(argument))\n",
    "\n",
    "    def inc_pc(self):\n",
    "        self.set_pc(self.pc + 1)\n",
    "\n",
    "    def set_pc(self, new_value):\n",
    "        if new_value in self.history:\n",
    "            self.flag = 'LOOP'\n",
    "        elif new_value not in self.memory:\n",
    "            self.flag = 'END'\n",
    "        else:\n",
    "            self.history.append(new_value)\n",
    "            self.pc = new_value"
   ]
  },
  {
   "cell_type": "code",
   "execution_count": 2,
   "metadata": {},
   "outputs": [
    {
     "name": "stdout",
     "output_type": "stream",
     "text": [
      "Accumulator value: 5\n"
     ]
    }
   ],
   "source": [
    "def run(instructions):\n",
    "    handheld = BootCode()\n",
    "    handheld.load(instructions)\n",
    "    while not handheld.flag:\n",
    "        handheld.step()\n",
    "    return handheld\n",
    "    \n",
    "\n",
    "# test with screen example\n",
    "hh = run(['nop +0', 'acc +1', 'jmp +4', 'acc +3', 'jmp -3', 'acc -99', 'acc +1', 'jmp -4', 'acc +6'])\n",
    "print('Accumulator value:', hh.accumulator)"
   ]
  },
  {
   "cell_type": "code",
   "execution_count": 3,
   "metadata": {},
   "outputs": [
    {
     "name": "stdout",
     "output_type": "stream",
     "text": [
      "Accumulator value: 1337\n"
     ]
    }
   ],
   "source": [
    "with open('input/08_01.txt') as f:\n",
    "    instructions = [i.strip() for i in f]\n",
    "gameboy = run(instructions)\n",
    "print('Accumulator value:', gameboy.accumulator)"
   ]
  },
  {
   "cell_type": "markdown",
   "metadata": {},
   "source": [
    "## Part 2\n",
    "\n",
    "After some careful analysis, you believe that exactly one instruction is corrupted.\n",
    "\n",
    "Somewhere in the program, either a jmp is supposed to be a nop, or a nop is supposed to be a jmp. (No acc instructions were harmed in the corruption of this boot code.)\n",
    "\n",
    "The program is supposed to terminate by attempting to execute an instruction immediately after the last instruction in the file. By changing exactly one jmp or nop, you can repair the boot code and make it terminate correctly.\n",
    "\n",
    "For example, consider the same program from above:\n",
    "\n",
    "`\n",
    "nop +0\n",
    "acc +1\n",
    "jmp +4\n",
    "acc +3\n",
    "jmp -3\n",
    "acc -99\n",
    "acc +1\n",
    "jmp -4\n",
    "acc +6\n",
    "`\n",
    "\n",
    "If you change the first instruction from nop +0 to jmp +0, it would create a single-instruction infinite loop, never leaving that instruction. If you change almost any of the jmp instructions, the program will still eventually find another jmp instruction and loop forever.\n",
    "\n",
    "However, if you change the second-to-last instruction (from jmp -4 to nop -4), the program terminates! The instructions are visited in this order:\n",
    "\n",
    "`\n",
    "nop +0  | 1\n",
    "acc +1  | 2\n",
    "jmp +4  | 3\n",
    "acc +3  |\n",
    "jmp -3  |\n",
    "acc -99 |\n",
    "acc +1  | 4\n",
    "nop -4  | 5\n",
    "acc +6  | 6\n",
    "`\n",
    "\n",
    "After the last instruction (acc +6), the program terminates by attempting to run the instruction below the last instruction in the file. With this change, after the program terminates, the accumulator contains the value 8 (acc +1, acc +1, acc +6).\n",
    "\n",
    "Fix the program so that it terminates normally by changing exactly one jmp (to nop) or nop (to jmp). What is the value of the accumulator after the program terminates?"
   ]
  },
  {
   "cell_type": "code",
   "execution_count": 4,
   "metadata": {},
   "outputs": [
    {
     "name": "stdout",
     "output_type": "stream",
     "text": [
      "Modifying one instruction\n",
      "Program exited normally\n",
      "Instruction replaced: 279\n",
      "jmp -116 -> nop -116\n",
      "Accumulator value: 1358\n"
     ]
    }
   ],
   "source": [
    "print('Modifying one instruction')\n",
    "for i in range(len(instructions)):\n",
    "    modified = instructions.copy()\n",
    "    if instructions[i].startswith('jmp'):\n",
    "        modified[i] =  instructions[i].replace('jmp', 'nop')\n",
    "    elif instructions[i].startswith('nop'):\n",
    "        modified[i] =  instructions[i].replace('nop', 'jmp')\n",
    "    hh = run(modified)\n",
    "    if hh.flag == 'END':\n",
    "        print('Program exited normally')\n",
    "        print('Instruction replaced:', i)\n",
    "        print(instructions[i], '->', modified[i])\n",
    "        print('Accumulator value:', hh.accumulator)\n",
    "        break\n",
    "else:\n",
    "    print('No regular exit')"
   ]
  },
  {
   "cell_type": "code",
   "execution_count": null,
   "metadata": {},
   "outputs": [],
   "source": []
  }
 ],
 "metadata": {
  "kernelspec": {
   "display_name": "Python 3",
   "language": "python",
   "name": "python3"
  },
  "language_info": {
   "codemirror_mode": {
    "name": "ipython",
    "version": 3
   },
   "file_extension": ".py",
   "mimetype": "text/x-python",
   "name": "python",
   "nbconvert_exporter": "python",
   "pygments_lexer": "ipython3",
   "version": "3.9.0"
  }
 },
 "nbformat": 4,
 "nbformat_minor": 4
}
