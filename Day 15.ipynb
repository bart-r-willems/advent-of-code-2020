{
 "cells": [
  {
   "cell_type": "markdown",
   "metadata": {},
   "source": [
    "# Day 15\n",
    "[Rambocious recitation(https://adventofcode.com/2020/day/15)"
   ]
  },
  {
   "cell_type": "markdown",
   "metadata": {},
   "source": [
    "## Part 1\n",
    "\n",
    "You catch the airport shuttle and try to book a new flight to your vacation island. Due to the storm, all direct flights have been cancelled, but a route is available to get around the storm. You take it.\n",
    "\n",
    "While you wait for your flight, you decide to check in with the Elves back at the North Pole. They're playing a memory game and are ever so excited to explain the rules!\n",
    "\n",
    "In this game, the players take turns saying numbers. They begin by taking turns reading from a list of starting numbers (your puzzle input). Then, each turn consists of considering the most recently spoken number:\n",
    "\n",
    "    If that was the first time the number has been spoken, the current player says 0.\n",
    "    Otherwise, the number had been spoken before; the current player announces how many turns apart the number is from when it was previously spoken.\n",
    "\n",
    "So, after the starting numbers, each turn results in that player speaking aloud either 0 (if the last number is new) or an age (if the last number is a repeat).\n",
    "\n",
    "For example, suppose the starting numbers are 0,3,6:\n",
    "\n",
    "    Turn 1: The 1st number spoken is a starting number, 0.\n",
    "    Turn 2: The 2nd number spoken is a starting number, 3.\n",
    "    Turn 3: The 3rd number spoken is a starting number, 6.\n",
    "    Turn 4: Now, consider the last number spoken, 6. Since that was the first time the number had been spoken, the 4th number spoken is 0.\n",
    "    Turn 5: Next, again consider the last number spoken, 0. Since it had been spoken before, the next number to speak is the difference between the turn number when it was last spoken (the previous turn, 4) and the turn number of the time it was most recently spoken before then (turn 1). Thus, the 5th number spoken is 4 - 1, 3.\n",
    "    Turn 6: The last number spoken, 3 had also been spoken before, most recently on turns 5 and 2. So, the 6th number spoken is 5 - 2, 3.\n",
    "    Turn 7: Since 3 was just spoken twice in a row, and the last two turns are 1 turn apart, the 7th number spoken is 1.\n",
    "    Turn 8: Since 1 is new, the 8th number spoken is 0.\n",
    "    Turn 9: 0 was last spoken on turns 8 and 4, so the 9th number spoken is the difference between them, 4.\n",
    "    Turn 10: 4 is new, so the 10th number spoken is 0.\n",
    "\n",
    "(The game ends when the Elves get sick of playing or dinner is ready, whichever comes first.)\n",
    "\n",
    "Their question for you is: what will be the 2020th number spoken? In the example above, the 2020th number spoken will be 436.\n",
    "\n",
    "Here are a few more examples:\n",
    "\n",
    "    Given the starting numbers 1,3,2, the 2020th number spoken is 1.\n",
    "    Given the starting numbers 2,1,3, the 2020th number spoken is 10.\n",
    "    Given the starting numbers 1,2,3, the 2020th number spoken is 27.\n",
    "    Given the starting numbers 2,3,1, the 2020th number spoken is 78.\n",
    "    Given the starting numbers 3,2,1, the 2020th number spoken is 438.\n",
    "    Given the starting numbers 3,1,2, the 2020th number spoken is 1836.\n",
    "\n",
    "Given your starting numbers, what will be the 2020th number spoken?\n",
    "\n",
    "Your puzzle input is 19,0,5,1,10,13."
   ]
  },
  {
   "cell_type": "code",
   "execution_count": 44,
   "metadata": {},
   "outputs": [],
   "source": [
    "def initialize(initial):\n",
    "    # seed the memory bank\n",
    "    history = {}\n",
    "    for turn, number in enumerate(initial, 1):\n",
    "        history[number] = (turn, None)\n",
    "        last_number = number  \n",
    "    return history, last_number, turn"
   ]
  },
  {
   "cell_type": "code",
   "execution_count": 52,
   "metadata": {},
   "outputs": [],
   "source": [
    "def turn_value(final_turn, initial_values):\n",
    "    history, last_number, turn = initialize(initial_values)\n",
    "    while turn < final_turn:\n",
    "        last, prev = history[last_number]\n",
    "        turn += 1\n",
    "        n = 0 if prev is None else (last - prev)\n",
    "        prev = history[n][0] if n in history else None\n",
    "        history[n] = (turn, prev)\n",
    "        last_number = n\n",
    "    return last_number"
   ]
  },
  {
   "cell_type": "code",
   "execution_count": 53,
   "metadata": {},
   "outputs": [],
   "source": [
    "assert turn_value(10, [0, 3, 6]) == 0\n",
    "assert turn_value(2020, [1, 3, 2]) == 1\n",
    "assert turn_value(2020, [2, 1, 3]) == 10\n",
    "assert turn_value(2020, [1, 2, 3]) == 27\n",
    "assert turn_value(2020, [3, 2, 1]) == 438\n",
    "assert turn_value(2020, [3, 1, 2]) == 1836"
   ]
  },
  {
   "cell_type": "code",
   "execution_count": 54,
   "metadata": {},
   "outputs": [
    {
     "data": {
      "text/plain": [
       "1015"
      ]
     },
     "execution_count": 54,
     "metadata": {},
     "output_type": "execute_result"
    }
   ],
   "source": [
    "turn_value(2020, [19, 0, 5, 1, 10, 13])"
   ]
  },
  {
   "cell_type": "markdown",
   "metadata": {},
   "source": [
    "## Part 2\n",
    "\n",
    "Impressed, the Elves issue you a challenge: determine the 30000000th number spoken. For example, given the same starting numbers as above:\n",
    "\n",
    "    Given 0,3,6, the 30000000th number spoken is 175594.\n",
    "    Given 1,3,2, the 30000000th number spoken is 2578.\n",
    "    Given 2,1,3, the 30000000th number spoken is 3544142.\n",
    "    Given 1,2,3, the 30000000th number spoken is 261214.\n",
    "    Given 2,3,1, the 30000000th number spoken is 6895259.\n",
    "    Given 3,2,1, the 30000000th number spoken is 18.\n",
    "    Given 3,1,2, the 30000000th number spoken is 362.\n",
    "\n",
    "Given your starting numbers, what will be the 30000000th number spoken?"
   ]
  },
  {
   "cell_type": "code",
   "execution_count": 59,
   "metadata": {},
   "outputs": [
    {
     "data": {
      "text/plain": [
       "201"
      ]
     },
     "execution_count": 59,
     "metadata": {},
     "output_type": "execute_result"
    }
   ],
   "source": [
    "turn_value(30000000, [19, 0, 5, 1, 10, 13])"
   ]
  },
  {
   "cell_type": "code",
   "execution_count": 60,
   "metadata": {},
   "outputs": [
    {
     "data": {
      "text/plain": [
       "{0: (1, None), 3: (2, None), 6: (3, None)}"
      ]
     },
     "execution_count": 60,
     "metadata": {},
     "output_type": "execute_result"
    }
   ],
   "source": [
    "history"
   ]
  },
  {
   "cell_type": "code",
   "execution_count": null,
   "metadata": {},
   "outputs": [],
   "source": []
  }
 ],
 "metadata": {
  "kernelspec": {
   "display_name": "Python 3",
   "language": "python",
   "name": "python3"
  },
  "language_info": {
   "codemirror_mode": {
    "name": "ipython",
    "version": 3
   },
   "file_extension": ".py",
   "mimetype": "text/x-python",
   "name": "python",
   "nbconvert_exporter": "python",
   "pygments_lexer": "ipython3",
   "version": "3.9.0"
  }
 },
 "nbformat": 4,
 "nbformat_minor": 4
}
