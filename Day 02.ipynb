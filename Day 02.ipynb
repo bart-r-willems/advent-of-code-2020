{
 "cells": [
  {
   "cell_type": "markdown",
   "metadata": {},
   "source": [
    "# Day 2\n",
    "[Password Philosophy](https://adventofcode.com/2020/day/2)\n",
    "\n",
    "The shopkeeper at the North Pole Toboggan Rental Shop is having a bad day. \"Something's wrong with our computers; we can't log in!\" You ask if you can take a look.<br>\n",
    "Their password database seems to be a little corrupted: some of the passwords wouldn't have been allowed by the Official Toboggan Corporate Policy that was in effect when they were chosen.<br>\n",
    "To try to debug the problem, they have created a list (your puzzle input) of passwords (according to the corrupted database) and the corporate policy when that password was set."
   ]
  },
  {
   "cell_type": "code",
   "execution_count": 26,
   "metadata": {},
   "outputs": [
    {
     "name": "stdout",
     "output_type": "stream",
     "text": [
      "1-4 j: jjjqzmgbjwpj\n",
      "2-4 w: sckwwf\n",
      "1-13 b: bcbbbbbbbbbbhbb\n",
      "10-11 x: xjxxxxxxxxzxxx\n",
      "13-14 d: dddddddddddddd\n"
     ]
    }
   ],
   "source": [
    "from collections import namedtuple\n",
    "\n",
    "data = [s.strip() for s in open('input/02_01.txt').readlines()]\n",
    "print(*data[:5], sep='\\n')"
   ]
  },
  {
   "cell_type": "code",
   "execution_count": 27,
   "metadata": {},
   "outputs": [
    {
     "name": "stdout",
     "output_type": "stream",
     "text": [
      "textparts(n1=1, n2=13, letter='b', password='bcbbbbbbbbbbhbb')\n"
     ]
    }
   ],
   "source": [
    "TextParts = namedtuple('textparts', 'n1 n2 letter password')\n",
    "\n",
    "def decompose(text):\n",
    "    policy, password = text.split(': ')\n",
    "    positions, letter = policy.split(' ')\n",
    "    n1, n2 = [int(s) for s in positions.split('-')]\n",
    "    return TextParts(n1, n2, letter, password)\n",
    "    \n",
    "print(decompose('1-13 b: bcbbbbbbbbbbhbb'))"
   ]
  },
  {
   "cell_type": "markdown",
   "metadata": {},
   "source": [
    "## Puzzle 1\n",
    "For example, suppose you have the following list:\n",
    "\n",
    "`1-3 a: abcde`<br>\n",
    "`1-3 b: cdefg`<br>\n",
    "`2-9 c: ccccccccc`<br>\n",
    "\n",
    "Each line gives the password policy and then the password. The password policy indicates the lowest and highest number of times a given letter must appear for the password to be valid. For example, `1-3 a` means that the password must contain a at least 1 time and at most 3 times.\n",
    "\n",
    "In the above example, 2 passwords are valid. The middle password, `cdefg`, is not; it contains no instances of `b`, but needs at least 1. The first and third passwords are valid: they contain one `a` or nine `c`, both within the limits of their respective policies.\n",
    "\n",
    "How many passwords are valid according to their policies?"
   ]
  },
  {
   "cell_type": "code",
   "execution_count": 28,
   "metadata": {},
   "outputs": [
    {
     "name": "stdout",
     "output_type": "stream",
     "text": [
      "418\n"
     ]
    }
   ],
   "source": [
    "def validate1(text):\n",
    "    parts = decompose(text)\n",
    "    return 1 if parts.n1 <= parts.password.count(parts.letter) <= parts.n2 else 0\n",
    "    \n",
    "print(sum(validate1(entry) for entry in data))"
   ]
  },
  {
   "cell_type": "markdown",
   "metadata": {},
   "source": [
    "## Puzzle 2\n",
    "While it appears you validated the passwords correctly, they don't seem to be what the Official Toboggan Corporate Authentication System is expecting.\n",
    "\n",
    "The shopkeeper suddenly realizes that he just accidentally explained the password policy rules from his old job at the sled rental place down the street! The Official Toboggan Corporate Policy actually works a little differently.\n",
    "\n",
    "Each policy actually describes two positions in the password, where 1 means the first character, 2 means the second character, and so on. (Be careful; Toboggan Corporate Policies have no concept of \"index zero\"!) Exactly one of these positions must contain the given letter. Other occurrences of the letter are irrelevant for the purposes of policy enforcement.\n",
    "\n",
    "Given the same example list from above:\n",
    "\n",
    "    1-3 a: abcde is valid: position 1 contains a and position 3 does not.\n",
    "    1-3 b: cdefg is invalid: neither position 1 nor position 3 contains b.\n",
    "    2-9 c: ccccccccc is invalid: both position 2 and position 9 contain c.\n",
    "\n",
    "How many passwords are valid according to the new interpretation of the policies?"
   ]
  },
  {
   "cell_type": "code",
   "execution_count": 29,
   "metadata": {},
   "outputs": [
    {
     "name": "stdout",
     "output_type": "stream",
     "text": [
      "616\n"
     ]
    }
   ],
   "source": [
    "def validate2(text):\n",
    "    parts = decompose(text)\n",
    "    c1 = 1 if parts.password[parts.n1 - 1] == parts.letter else 0\n",
    "    c2 = 1 if parts.password[parts.n2 - 1] == parts.letter else 0\n",
    "    return 1 if (c1 + c2) == 1 else 0\n",
    "\n",
    "print(sum(validate2(entry) for entry in data))"
   ]
  },
  {
   "cell_type": "code",
   "execution_count": null,
   "metadata": {},
   "outputs": [],
   "source": []
  }
 ],
 "metadata": {
  "kernelspec": {
   "display_name": "Python 3",
   "language": "python",
   "name": "python3"
  },
  "language_info": {
   "codemirror_mode": {
    "name": "ipython",
    "version": 3
   },
   "file_extension": ".py",
   "mimetype": "text/x-python",
   "name": "python",
   "nbconvert_exporter": "python",
   "pygments_lexer": "ipython3",
   "version": "3.9.0"
  }
 },
 "nbformat": 4,
 "nbformat_minor": 4
}
