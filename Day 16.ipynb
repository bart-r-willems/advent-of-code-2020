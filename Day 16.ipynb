{
 "cells": [
  {
   "cell_type": "markdown",
   "metadata": {},
   "source": [
    "# Day 16\n",
    "\n",
    "[Ticket Translation](https://adventofcode.com/2020/day/16)"
   ]
  },
  {
   "cell_type": "markdown",
   "metadata": {},
   "source": [
    "As you're walking to yet another connecting flight, you realize that one of the legs of your re-routed trip coming up is on a high-speed train. However, the train ticket you were given is in a language you don't understand. You should probably figure out what it says before you get to the train station after the next flight.\n",
    "\n",
    "Unfortunately, you can't actually read the words on the ticket. You can, however, read the numbers, and so you figure out the fields these tickets must have and the valid ranges for values in those fields.\n",
    "\n",
    "You collect the rules for ticket fields, the numbers on your ticket, and the numbers on other nearby tickets for the same train service (via the airport security cameras) together into a single document you can reference (your puzzle input).\n",
    "\n",
    "The rules for ticket fields specify a list of fields that exist somewhere on the ticket and the valid ranges of values for each field. For example, a rule like class: 1-3 or 5-7 means that one of the fields in every ticket is named class and can be any value in the ranges 1-3 or 5-7 (inclusive, such that 3 and 5 are both valid in this field, but 4 is not).\n",
    "\n",
    "Each ticket is represented by a single line of comma-separated values. The values are the numbers on the ticket in the order they appear; every ticket has the same format. For example, consider this ticket:\n",
    "\n",
    ".--------------------------------------------------------.\n",
    "| ????: 101    ?????: 102   ??????????: 103     ???: 104 |\n",
    "|                                                        |\n",
    "| ??: 301  ??: 302             ???????: 303      ??????? |\n",
    "| ??: 401  ??: 402           ???? ????: 403    ????????? |\n",
    "'--------------------------------------------------------'\n",
    "\n",
    "Here, ? represents text in a language you don't understand. This ticket might be represented as 101,102,103,104,301,302,303,401,402,403; of course, the actual train tickets you're looking at are much more complicated. In any case, you've extracted just the numbers in such a way that the first number is always the same specific field, the second number is always a different specific field, and so on - you just don't know what each position actually means!\n",
    "\n",
    "Start by determining which tickets are completely invalid; these are tickets that contain values which aren't valid for any field. Ignore your ticket for now.\n",
    "\n",
    "For example, suppose you have the following notes:\n",
    "\n",
    "class: 1-3 or 5-7\n",
    "row: 6-11 or 33-44\n",
    "seat: 13-40 or 45-50\n",
    "\n",
    "your ticket:\n",
    "7,1,14\n",
    "\n",
    "nearby tickets:\n",
    "7,3,47\n",
    "40,4,50\n",
    "55,2,20\n",
    "38,6,12\n",
    "\n",
    "It doesn't matter which position corresponds to which field; you can identify invalid nearby tickets by considering only whether tickets contain values that are not valid for any field. In this example, the values on the first nearby ticket are all valid for at least one field. This is not true of the other three nearby tickets: the values 4, 55, and 12 are are not valid for any field. Adding together all of the invalid values produces your ticket scanning error rate: 4 + 55 + 12 = 71.\n",
    "\n",
    "Consider the validity of the nearby tickets you scanned. What is your ticket scanning error rate?"
   ]
  },
  {
   "cell_type": "code",
   "execution_count": 1,
   "metadata": {},
   "outputs": [],
   "source": [
    "data_input = open('input/day 16.txt').read().splitlines()\n",
    "\n",
    "first_break = data_input.index('')\n",
    "second_break = data_input.index('', first_break + 1)\n",
    "\n",
    "rules = data_input[:first_break]\n",
    "my_ticket = data_input[first_break + 2]\n",
    "tickets = data_input[second_break + 2:]"
   ]
  },
  {
   "cell_type": "code",
   "execution_count": 2,
   "metadata": {},
   "outputs": [
    {
     "data": {
      "text/plain": [
       "['departure location: 29-917 or 943-952',\n",
       " 'departure station: 50-875 or 884-954',\n",
       " 'departure platform: 41-493 or 503-949',\n",
       " 'departure track: 50-867 or 875-966',\n",
       " 'departure date: 30-655 or 679-956',\n",
       " 'departure time: 46-147 or 153-958',\n",
       " 'arrival location: 50-329 or 344-968',\n",
       " 'arrival station: 42-614 or 623-949',\n",
       " 'arrival platform: 35-849 or 860-973',\n",
       " 'arrival track: 42-202 or 214-959',\n",
       " 'class: 38-317 or 329-968',\n",
       " 'duration: 44-530 or 539-953',\n",
       " 'price: 28-713 or 727-957',\n",
       " 'route: 30-157 or 179-966',\n",
       " 'row: 38-114 or 136-969',\n",
       " 'seat: 45-441 or 465-956',\n",
       " 'train: 44-799 or 824-951',\n",
       " 'type: 41-411 or 437-953',\n",
       " 'wagon: 39-79 or 86-969',\n",
       " 'zone: 48-306 or 317-974']"
      ]
     },
     "execution_count": 2,
     "metadata": {},
     "output_type": "execute_result"
    }
   ],
   "source": [
    "rules"
   ]
  },
  {
   "cell_type": "code",
   "execution_count": 3,
   "metadata": {},
   "outputs": [],
   "source": [
    "# collect all ticket numbers\n",
    "\n",
    "import re\n",
    "\n",
    "ticket_numbers = set()\n",
    "extract_ranges = re.compile(r': (\\d*\\-\\d*) or (\\d*\\-\\d*)').findall\n",
    "for rule in rules:\n",
    "    # print(groups)\n",
    "    for group in extract_ranges(rule)[0]:\n",
    "        lower, higher = group.split('-')\n",
    "        ticket_numbers = ticket_numbers.union(range(int(lower), int(higher) + 1))"
   ]
  },
  {
   "cell_type": "code",
   "execution_count": 4,
   "metadata": {},
   "outputs": [
    {
     "data": {
      "text/plain": [
       "23925"
      ]
     },
     "execution_count": 4,
     "metadata": {},
     "output_type": "execute_result"
    }
   ],
   "source": [
    "# count invalid tickets\n",
    "\n",
    "all_tickets = [int(x) for x in ','.join(tickets).split(',')]\n",
    "error_rate = sum(t for t in all_tickets if t not in ticket_numbers)\n",
    "error_rate"
   ]
  },
  {
   "cell_type": "markdown",
   "metadata": {},
   "source": [
    "## Part 2\n",
    "\n",
    "Now that you've identified which tickets contain invalid values, discard those tickets entirely. Use the remaining valid tickets to determine which field is which.\n",
    "\n",
    "Using the valid ranges for each field, determine what order the fields appear on the tickets. The order is consistent between all tickets: if seat is the third field, it is the third field on every ticket, including your ticket.\n",
    "\n",
    "For example, suppose you have the following notes:\n",
    "\n",
    "class: 0-1 or 4-19\n",
    "row: 0-5 or 8-19\n",
    "seat: 0-13 or 16-19\n",
    "\n",
    "your ticket:\n",
    "11,12,13\n",
    "\n",
    "nearby tickets:\n",
    "3,9,18\n",
    "15,1,5\n",
    "5,14,9\n",
    "\n",
    "Based on the nearby tickets in the above example, the first position must be row, the second position must be class, and the third position must be seat; you can conclude that in your ticket, class is 12, row is 11, and seat is 13.\n",
    "\n",
    "Once you work out which field is which, look for the six fields on your ticket that start with the word departure. What do you get if you multiply those six values together?"
   ]
  },
  {
   "cell_type": "code",
   "execution_count": 5,
   "metadata": {},
   "outputs": [],
   "source": [
    "# remove tickets not in the ticket ranges\n",
    "valid_tickets = [[int(x) for x in nums.split(',') if int(x) in ticket_numbers] for nums in tickets]"
   ]
  },
  {
   "cell_type": "code",
   "execution_count": 6,
   "metadata": {},
   "outputs": [],
   "source": [
    "# create ticket number sets for each fields\n",
    "import collections\n",
    "fields = collections.defaultdict(set)\n",
    "field_list = []\n",
    "extraction = re.compile(r'(.*): (\\d*)-(\\d*) or (\\d*)-(\\d*)').findall\n",
    "for r in rules:\n",
    "    fld, l1, h1, l2, h2 = extraction(r)[0]\n",
    "    field_list.append(fld)\n",
    "    for n in range(int(l1), int(h1) + 1):\n",
    "        fields[n].add(fld)\n",
    "    for n in range(int(l2), int(h2) + 1):\n",
    "        fields[n].add(fld)"
   ]
  },
  {
   "cell_type": "code",
   "execution_count": 12,
   "metadata": {},
   "outputs": [
    {
     "name": "stdout",
     "output_type": "stream",
     "text": [
      "To go: 187\n",
      "To go: 161\n",
      "To go: 126\n",
      "To go: 105\n",
      "To go: 87\n",
      "To go: 44\n",
      "To go: 23\n",
      "To go: 13\n",
      "To go: 5\n",
      "{0: 'duration', 1: 'departure track', 2: 'departure station', 3: 'arrival platform', 4: 'zone', 5: 'departure location', 6: 'class', 7: 'train', 8: 'arrival track', 9: 'route', 10: 'price', 11: 'departure time', 12: 'row', 13: 'arrival location', 14: 'wagon', 15: 'departure platform', 16: 'type', 17: 'arrival station', 18: 'seat', 19: 'departure date'}\n"
     ]
    }
   ],
   "source": [
    "known_columns = {}\n",
    "while True:\n",
    "    total = 0\n",
    "    for n in range(20):\n",
    "        column_data = [fields[t[n]] for t in valid_tickets if len(t) >= 20]\n",
    "        candidates = set(field_list)\n",
    "        for flds in column_data:\n",
    "            candidates &= flds\n",
    "        for v in known_columns.values():\n",
    "            candidates.discard(v)\n",
    "        if len(candidates) == 1:\n",
    "            # print(f'{n:2} {candidates}')\n",
    "            known_columns[n] = candidates.pop()\n",
    "        else:\n",
    "            total += len(candidates)\n",
    "    if total < 1:\n",
    "        break\n",
    "    else:\n",
    "        print('To go:', total)\n",
    "known_columns = {n: known_columns[n] for n in sorted(known_columns)}\n",
    "print(known_columns)"
   ]
  },
  {
   "cell_type": "code",
   "execution_count": 17,
   "metadata": {},
   "outputs": [
    {
     "data": {
      "text/plain": [
       "[89, 73, 103, 67, 157, 137]"
      ]
     },
     "execution_count": 17,
     "metadata": {},
     "output_type": "execute_result"
    }
   ],
   "source": [
    "nums = [int(my_ticket.split(',')[i]) for i in range(20) if known_columns[i].startswith('departure')]\n",
    "nums"
   ]
  },
  {
   "cell_type": "code",
   "execution_count": 18,
   "metadata": {},
   "outputs": [
    {
     "data": {
      "text/plain": [
       "964373157673"
      ]
     },
     "execution_count": 18,
     "metadata": {},
     "output_type": "execute_result"
    }
   ],
   "source": [
    "import math\n",
    "math.prod(nums)"
   ]
  },
  {
   "cell_type": "code",
   "execution_count": null,
   "metadata": {},
   "outputs": [],
   "source": []
  }
 ],
 "metadata": {
  "kernelspec": {
   "display_name": "Python 3",
   "language": "python",
   "name": "python3"
  },
  "language_info": {
   "codemirror_mode": {
    "name": "ipython",
    "version": 3
   },
   "file_extension": ".py",
   "mimetype": "text/x-python",
   "name": "python",
   "nbconvert_exporter": "python",
   "pygments_lexer": "ipython3",
   "version": "3.9.0"
  }
 },
 "nbformat": 4,
 "nbformat_minor": 4
}
