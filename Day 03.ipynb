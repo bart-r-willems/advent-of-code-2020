{
 "cells": [
  {
   "cell_type": "markdown",
   "metadata": {},
   "source": [
    "# Day 3\n",
    "[Toboggan Trajectory](https://adventofcode.com/2020/day/3)\n",
    "\n",
    "With the toboggan login problems resolved, you set off toward the airport. While travel by toboggan might be easy, it's certainly not safe: there's very minimal steering and the area is covered in trees. You'll need to see which angles will take you near the fewest trees"
   ]
  },
  {
   "cell_type": "code",
   "execution_count": 18,
   "metadata": {},
   "outputs": [],
   "source": [
    "from collections import namedtuple\n",
    "import math\n",
    "Step = namedtuple('Step', 'x y')"
   ]
  },
  {
   "cell_type": "code",
   "execution_count": 12,
   "metadata": {},
   "outputs": [],
   "source": [
    "# read the tree map\n",
    "tree_map = {'map': {}}\n",
    "with open('input/03_01.txt', 'r') as f:\n",
    "    for y, text in enumerate(f):\n",
    "        x = text.find('#')\n",
    "        while x != -1:\n",
    "            tree_map['map'][(x, y)] = 1\n",
    "            x = text.find('#', x + 1)\n",
    "\n",
    "# record map width and height\n",
    "tree_map['width'] = len(text.strip())\n",
    "tree_map['height'] = y + 1"
   ]
  },
  {
   "cell_type": "code",
   "execution_count": 14,
   "metadata": {},
   "outputs": [
    {
     "name": "stdout",
     "output_type": "stream",
     "text": [
      "171\n"
     ]
    }
   ],
   "source": [
    "def tree_count(tree_map, step):\n",
    "    locations = [(step.x * i % tree_map['width'], step.y * i) for i in range(tree_map['height'])]\n",
    "    return sum(tree_map['map'].get(loc, 0) for loc in locations)"
   ]
  },
  {
   "cell_type": "markdown",
   "metadata": {},
   "source": [
    "## Part 1\n",
    "Starting at the top-left corner of your map and following a slope of right 3 and down 1, how many trees would you encounter?"
   ]
  },
  {
   "cell_type": "code",
   "execution_count": 16,
   "metadata": {},
   "outputs": [
    {
     "name": "stdout",
     "output_type": "stream",
     "text": [
      "Number of trees to encounter at a slope of (3, 1): 171\n"
     ]
    }
   ],
   "source": [
    "s = Step(3, 1)\n",
    "t = tree_count(tree_map, s)\n",
    "\n",
    "print(f'Number of trees to encounter at a slope of ({s.x}, {s.y}): {t}')"
   ]
  },
  {
   "cell_type": "markdown",
   "metadata": {},
   "source": [
    "## Part 2\n",
    "\n",
    "Time to check the rest of the slopes - you need to minimize the probability of a sudden arboreal stop, after all.\n",
    "\n",
    "Determine the number of trees you would encounter if, for each of the following slopes, you start at the top-left corner and traverse the map all the way to the bottom:\n",
    "\n",
    "    Right 1, down 1.\n",
    "    Right 3, down 1. (This is the slope you already checked.)\n",
    "    Right 5, down 1.\n",
    "    Right 7, down 1.\n",
    "    Right 1, down 2.\n",
    "\n",
    "In the above example, these slopes would find 2, 7, 3, 4, and 2 tree(s) respectively; multiplied together, these produce the answer 336.\n",
    "\n",
    "What do you get if you multiply together the number of trees encountered on each of the listed slopes?"
   ]
  },
  {
   "cell_type": "code",
   "execution_count": 23,
   "metadata": {},
   "outputs": [
    {
     "name": "stdout",
     "output_type": "stream",
     "text": [
      "At a slope of (1, 1), there are  70 trees.\n",
      "At a slope of (3, 1), there are 171 trees.\n",
      "At a slope of (5, 1), there are  48 trees.\n",
      "At a slope of (7, 1), there are  60 trees.\n",
      "At a slope of (1, 2), there are  35 trees.\n",
      "The solution is 70 × 171 × 48 × 60 × 35 = 1,206,576,000\n",
      "For copy & paste: 1206576000\n"
     ]
    }
   ],
   "source": [
    "s = [Step(1, 1), Step(3, 1), Step(5, 1), Step(7, 1), Step(1, 2)]\n",
    "t = [tree_count(tree_map, step) for step in s]\n",
    "\n",
    "for step, treecount in zip(s, t):\n",
    "    print(f'At a slope of ({step.x}, {step.y}), there are {treecount:3} trees.')\n",
    "\n",
    "print(f'The solution is {\" × \".join(str(i) for i in t)} = {math.prod(t):,}')\n",
    "print('For copy & paste:', math.prod(t))"
   ]
  }
 ],
 "metadata": {
  "kernelspec": {
   "display_name": "Python 3",
   "language": "python",
   "name": "python3"
  },
  "language_info": {
   "codemirror_mode": {
    "name": "ipython",
    "version": 3
   },
   "file_extension": ".py",
   "mimetype": "text/x-python",
   "name": "python",
   "nbconvert_exporter": "python",
   "pygments_lexer": "ipython3",
   "version": "3.9.0"
  }
 },
 "nbformat": 4,
 "nbformat_minor": 4
}
