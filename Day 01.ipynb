{
 "cells": [
  {
   "cell_type": "markdown",
   "metadata": {},
   "source": [
    "# Day 1\n",
    "[Report Repair](https://adventofcode.com/2020/day/1)\n",
    "\n",
    "Before you leave, the Elves in accounting just need you to fix your expense report (your puzzle input); apparently, something isn't quite adding up. Specifically, they need you to find the two entries that sum to 2020 and then multiply those two numbers together. For example, suppose your expense report contained the following:\n",
    "\n",
    "1721<br>\n",
    "979<br>\n",
    "366<br>\n",
    "299<br>\n",
    "675<br>\n",
    "1456<br>\n",
    "\n",
    "In this list, the two entries that sum to 2020 are 1721 and 299. Multiplying them together produces 1721 * 299 = 514579, so the correct answer is 514579. Of course, your expense report is much larger. Find the two entries that sum to 2020; what do you get if you multiply them together?"
   ]
  },
  {
   "cell_type": "code",
   "execution_count": 15,
   "metadata": {},
   "outputs": [],
   "source": [
    "from IPython.display import Markdown"
   ]
  },
  {
   "cell_type": "markdown",
   "metadata": {},
   "source": [
    "## Puzzle 1\n",
    "Find the two inputs that add up to 2020 and multiply them"
   ]
  },
  {
   "cell_type": "code",
   "execution_count": 1,
   "metadata": {},
   "outputs": [
    {
     "name": "stdout",
     "output_type": "stream",
     "text": [
      "There are 200 expenses\n",
      "There are 200 unique expenses\n"
     ]
    }
   ],
   "source": [
    "expenses = [int(n.strip()) for n in open('input/01_01.txt', 'r').readlines()]\n",
    "unique = set(expenses)\n",
    "print(f'There are {len(expenses)} expenses')\n",
    "print(f'There are {len(unique)} unique expenses')"
   ]
  },
  {
   "cell_type": "code",
   "execution_count": 2,
   "metadata": {},
   "outputs": [
    {
     "name": "stdout",
     "output_type": "stream",
     "text": [
      "The amounts are 895 and 1125\n",
      "The total is 1006875\n"
     ]
    }
   ],
   "source": [
    "for e1 in expenses:\n",
    "    e2 = 2020 - e1\n",
    "    if e2 in unique:\n",
    "        print(f'The amounts are {e1} and {e2}\\nThe total is {e1 * e2}')\n",
    "        break\n",
    "else:\n",
    "    print('No entries were found!')"
   ]
  },
  {
   "cell_type": "markdown",
   "metadata": {},
   "source": [
    "## Puzzle 2\n",
    "Find the three inputs that add up to 2020 and multiply them"
   ]
  },
  {
   "cell_type": "code",
   "execution_count": 3,
   "metadata": {},
   "outputs": [
    {
     "name": "stdout",
     "output_type": "stream",
     "text": [
      "The entries are: (390, 324, 1306)\n",
      "The product is: 165026160\n"
     ]
    }
   ],
   "source": [
    "from itertools import permutations\n",
    "from math import prod\n",
    "\n",
    "for entries in permutations(expenses, 3):\n",
    "    if sum(entries) == 2020:\n",
    "        print(f'The entries are: {entries}')\n",
    "        print(f'The product is: {prod(entries)}')\n",
    "        break\n",
    "else:\n",
    "    print('No entries were found')\n"
   ]
  },
  {
   "cell_type": "markdown",
   "metadata": {},
   "source": [
    "## Generic Solution\n",
    "Find the entries that add up to the target for any target and any number of expenses"
   ]
  },
  {
   "cell_type": "code",
   "execution_count": 28,
   "metadata": {},
   "outputs": [],
   "source": [
    "def find_entries(expenses, target, count=1, entries=None):\n",
    "    def get_sum(entries):\n",
    "        return sum(expenses[i] for i in entries)\n",
    "    \n",
    "    # base case: start search\n",
    "    if not entries:\n",
    "        for i in range(len(expenses)):\n",
    "            if s := find_entries(expenses, target, count, [i]):\n",
    "                return s\n",
    "    else:   \n",
    "        # try the remaining entries in the list\n",
    "        for i in range(max(entries) + 1, len(expenses)):\n",
    "            entries.append(i)\n",
    "            # winner winner, chicken dinner?\n",
    "            if len(entries) == count and get_sum(entries) == target:\n",
    "                return [expenses[i] for i in entries]\n",
    "            # if below target and more values can be added, try to do so\n",
    "            elif len(entries) < count and get_sum(entries) < target:\n",
    "                if s:= find_entries(expenses, target, count, entries):\n",
    "                    return s\n",
    "            entries.pop()\n",
    "    return None"
   ]
  },
  {
   "cell_type": "code",
   "execution_count": 29,
   "metadata": {},
   "outputs": [
    {
     "data": {
      "text/markdown": [
       "## Puzzle 1"
      ],
      "text/plain": [
       "<IPython.core.display.Markdown object>"
      ]
     },
     "metadata": {},
     "output_type": "display_data"
    },
    {
     "data": {
      "text/markdown": [
       "The values are 895 and 1,125"
      ],
      "text/plain": [
       "<IPython.core.display.Markdown object>"
      ]
     },
     "metadata": {},
     "output_type": "display_data"
    },
    {
     "data": {
      "text/markdown": [
       "The total is 1,006,875"
      ],
      "text/plain": [
       "<IPython.core.display.Markdown object>"
      ]
     },
     "metadata": {},
     "output_type": "display_data"
    },
    {
     "data": {
      "text/markdown": [
       "## Puzzle 2"
      ],
      "text/plain": [
       "<IPython.core.display.Markdown object>"
      ]
     },
     "metadata": {},
     "output_type": "display_data"
    },
    {
     "data": {
      "text/markdown": [
       "The values are 390, 324, and 1,306"
      ],
      "text/plain": [
       "<IPython.core.display.Markdown object>"
      ]
     },
     "metadata": {},
     "output_type": "display_data"
    },
    {
     "data": {
      "text/markdown": [
       "The total is 165,026,160"
      ],
      "text/plain": [
       "<IPython.core.display.Markdown object>"
      ]
     },
     "metadata": {},
     "output_type": "display_data"
    }
   ],
   "source": [
    "display(Markdown('## Puzzle 1'))\n",
    "if s:= find_entries(expenses, 2020, 2):\n",
    "    e1, e2 = s\n",
    "    display(Markdown(f'The values are {e1:,} and {e2:,}'), \n",
    "            Markdown(f'The total is {e1 * e2:,}'))\n",
    "else:\n",
    "    display(Markdown('No valid values were found.'))\n",
    "    \n",
    "display(Markdown('## Puzzle 2'))\n",
    "if s:= find_entries(expenses, 2020, 3):\n",
    "    e1, e2, e3 = s\n",
    "    display(Markdown(f'The values are {e1:,}, {e2:,}, and {e3:,}'), \n",
    "            Markdown(f'The total is {e1 * e2 * e3:,}'))\n",
    "else:\n",
    "    display(Markdown('No valid values were found.'))"
   ]
  },
  {
   "cell_type": "code",
   "execution_count": null,
   "metadata": {},
   "outputs": [],
   "source": []
  }
 ],
 "metadata": {
  "kernelspec": {
   "display_name": "Python 3",
   "language": "python",
   "name": "python3"
  },
  "language_info": {
   "codemirror_mode": {
    "name": "ipython",
    "version": 3
   },
   "file_extension": ".py",
   "mimetype": "text/x-python",
   "name": "python",
   "nbconvert_exporter": "python",
   "pygments_lexer": "ipython3",
   "version": "3.9.0"
  }
 },
 "nbformat": 4,
 "nbformat_minor": 4
}
